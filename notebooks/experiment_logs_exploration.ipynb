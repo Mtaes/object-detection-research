{
 "cells": [
  {
   "cell_type": "code",
   "execution_count": null,
   "source": [
    "import os\n",
    "import pandas as pd\n",
    "\n",
    "DPI = 300\n",
    "FILE_FORMAT = \"jpg\"\n",
    "SAVE = False\n",
    "SHOW_TITLE = True\n",
    "\n",
    "\n",
    "def get_path(file_name: str):\n",
    "    return os.path.join(\n",
    "        \"images\", \"experiment_logs_exploration\", f\"{file_name}.{FILE_FORMAT}\"\n",
    "    )\n",
    "\n",
    "\n",
    "EXPERIMENT_ID = 1\n",
    "metrics_df = pd.read_csv(\n",
    "    os.path.join(\n",
    "        \"..\", \"logs\", \"experiment\", \"version_{}\".format(EXPERIMENT_ID), \"metrics.csv\"\n",
    "    )\n",
    ")"
   ],
   "outputs": [],
   "metadata": {}
  },
  {
   "cell_type": "code",
   "execution_count": null,
   "source": [
    "metrics_df.head()"
   ],
   "outputs": [],
   "metadata": {}
  },
  {
   "cell_type": "code",
   "execution_count": null,
   "source": [
    "# Time of execution (h)\n",
    "(metrics_df[\"step_end\"].max() - metrics_df[\"step_start\"].min()) / (60 * 60)"
   ],
   "outputs": [],
   "metadata": {}
  },
  {
   "cell_type": "code",
   "execution_count": null,
   "source": [
    "metrics_df.info()"
   ],
   "outputs": [],
   "metadata": {}
  },
  {
   "cell_type": "code",
   "execution_count": null,
   "source": [
    "metrics_df.describe()"
   ],
   "outputs": [],
   "metadata": {}
  },
  {
   "cell_type": "code",
   "execution_count": null,
   "source": [
    "num_epochs = int(metrics_df[\"epoch\"].dropna().max()) + 1\n",
    "num_epochs"
   ],
   "outputs": [],
   "metadata": {}
  },
  {
   "cell_type": "code",
   "execution_count": null,
   "source": [
    "val_coco_df = metrics_df[[\"coco_stat_{}\".format(i) for i in range(12)]].dropna()\n",
    "val_coco_df, test_coco_df = val_coco_df[:num_epochs], val_coco_df[num_epochs:]"
   ],
   "outputs": [],
   "metadata": {}
  },
  {
   "cell_type": "code",
   "execution_count": null,
   "source": [
    "val_coco_df"
   ],
   "outputs": [],
   "metadata": {}
  },
  {
   "cell_type": "code",
   "execution_count": null,
   "source": [
    "import matplotlib.pyplot as plt\n",
    "\n",
    "plt.plot(range(1, num_epochs + 1), val_coco_df[\"coco_stat_0\"], \"o--\")\n",
    "plt.ylabel(\"Dokładność (%)\")\n",
    "plt.xlabel(\"Epoki\")\n",
    "title = \"AP IoU=.50:.05:.95 na zbiorze walidacyjnym po każdej epoce - eksperyment {}\".format(\n",
    "    EXPERIMENT_ID\n",
    ")\n",
    "if SHOW_TITLE:\n",
    "    plt.title(title)\n",
    "else:\n",
    "    print(title)\n",
    "plt.grid()\n",
    "plt.tight_layout()\n",
    "if SAVE:\n",
    "    plt.savefig(get_path(f\"ex_{EXPERIMENT_ID}_val\"), dpi=DPI)\n",
    "plt.show()"
   ],
   "outputs": [],
   "metadata": {}
  },
  {
   "cell_type": "code",
   "execution_count": null,
   "source": [
    "test_coco_df"
   ],
   "outputs": [],
   "metadata": {}
  },
  {
   "cell_type": "code",
   "execution_count": null,
   "source": [
    "x = range(len(metrics_df[\"loss\"].dropna()))\n",
    "window_size = int(0.005 * len(metrics_df[\"loss\"].dropna()))\n",
    "plt.plot(x, metrics_df[\"loss\"].dropna(), label=\"strata\")\n",
    "plt.plot(\n",
    "    x,\n",
    "    metrics_df[\"loss\"].dropna().rolling(window=window_size).mean(),\n",
    "    label=\"ruchoma średnia straty (okno={})\".format(window_size),\n",
    ")  #'rolling mean loss (window size={})'\n",
    "plt.plot(\n",
    "    x,\n",
    "    metrics_df[\"loss\"].dropna().rolling(window=window_size).std(),\n",
    "    label=\"ruchoma średnia odchylenia standardowego (okno={})\".format(window_size),\n",
    ")  #'rolling loss std (window size={})'\n",
    "plt.legend()\n",
    "plt.ylabel(\"Wartość straty\")\n",
    "plt.xlabel(\"Iteracje\")\n",
    "plt.ylim(bottom=0, top=1.5)\n",
    "title = \"Wartość straty podczas uczenia - eksperyment {}\".format(EXPERIMENT_ID)\n",
    "if SHOW_TITLE:\n",
    "    plt.title(title)\n",
    "else:\n",
    "    print(title)\n",
    "plt.grid()\n",
    "plt.tight_layout()\n",
    "if SAVE:\n",
    "    plt.savefig(get_path(f\"ex_{EXPERIMENT_ID}_loss\"), dpi=DPI)\n",
    "plt.show()"
   ],
   "outputs": [],
   "metadata": {}
  },
  {
   "cell_type": "code",
   "execution_count": null,
   "source": [
    "metrics_df[\"loss\"].dropna().describe()"
   ],
   "outputs": [],
   "metadata": {}
  },
  {
   "cell_type": "code",
   "execution_count": null,
   "source": [
    "losses = {\n",
    "    \"ruchoma średnia straty klasyfikatora (okno={})\".format(window_size): metrics_df[\n",
    "        \"loss_classifier\"\n",
    "    ]\n",
    "    .dropna()\n",
    "    .rolling(window=window_size)\n",
    "    .mean(),\n",
    "    \"ruchoma średnia straty regresji pola ograniczającego (okno={})\".format(\n",
    "        window_size\n",
    "    ): metrics_df[\"loss_box_reg\"]\n",
    "    .dropna()\n",
    "    .rolling(window=window_size)\n",
    "    .mean(),\n",
    "    \"ruchoma średnia straty zawierania obiektu (okno={})\".format(\n",
    "        window_size\n",
    "    ): metrics_df[\"loss_objectness\"]\n",
    "    .dropna()\n",
    "    .rolling(window=window_size)\n",
    "    .mean(),\n",
    "    \"ruchoma średnia straty regresji pola ograniczającego (rpn) (okno={})\".format(\n",
    "        window_size\n",
    "    ): metrics_df[\"loss_rpn_box_reg\"]\n",
    "    .dropna()\n",
    "    .rolling(window=window_size)\n",
    "    .mean(),\n",
    "}\n",
    "plt.stackplot(x, losses.values(), labels=losses.keys())\n",
    "plt.legend(bbox_to_anchor=(1, 0.5), loc=\"center left\")\n",
    "plt.ylabel(\"Wartość straty\")\n",
    "plt.xlabel(\"Iteracje\")\n",
    "plt.ylim(bottom=0, top=1)\n",
    "title = \"Skład średniej straty podczas uczenia - eksperyment {}\".format(EXPERIMENT_ID)\n",
    "if SHOW_TITLE:\n",
    "    plt.title(title)\n",
    "else:\n",
    "    print(title)\n",
    "plt.grid()\n",
    "if SAVE:\n",
    "    plt.savefig(get_path(f\"ex_{EXPERIMENT_ID}_losses\"), dpi=DPI, bbox_inches=\"tight\")\n",
    "plt.show()"
   ],
   "outputs": [],
   "metadata": {}
  },
  {
   "cell_type": "code",
   "execution_count": null,
   "source": [
    "(metrics_df[\"step_end\"] - metrics_df[\"step_start\"]).mean()"
   ],
   "outputs": [],
   "metadata": {}
  },
  {
   "cell_type": "code",
   "execution_count": null,
   "source": [
    "gpu_memory = metrics_df[\"gpu_id: 0/memory.used (MB)\"].dropna()\n",
    "plt.plot(range(len(gpu_memory)), gpu_memory)\n",
    "plt.title(\"Wykorzystanie pamięci GPU - eksperyment {}\".format(EXPERIMENT_ID))\n",
    "plt.xlabel(\"Iteracje\")\n",
    "plt.ylabel(\"Wykorzystanie pamięci (MB)\")\n",
    "plt.grid()\n",
    "plt.tight_layout()\n",
    "plt.show()"
   ],
   "outputs": [],
   "metadata": {}
  },
  {
   "cell_type": "code",
   "execution_count": null,
   "source": [
    "# Max GPU memory\n",
    "metrics_df[\"gpu_id: 0/memory.used (MB)\"].dropna().max()"
   ],
   "outputs": [],
   "metadata": {}
  }
 ],
 "metadata": {
  "interpreter": {
   "hash": "7430735f8de99a669c96d22c615cf95622dcefd15be72b05d75f9aebad5f014d"
  },
  "kernelspec": {
   "name": "python3",
   "display_name": "Python 3.8.10 64-bit ('mlenv': conda)"
  },
  "language_info": {
   "codemirror_mode": {
    "name": "ipython",
    "version": 3
   },
   "file_extension": ".py",
   "mimetype": "text/x-python",
   "name": "python",
   "nbconvert_exporter": "python",
   "pygments_lexer": "ipython3",
   "version": "3.8.10"
  },
  "orig_nbformat": 4
 },
 "nbformat": 4,
 "nbformat_minor": 2
}