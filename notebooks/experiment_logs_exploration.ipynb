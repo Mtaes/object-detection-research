{
 "cells": [
  {
   "cell_type": "code",
   "execution_count": null,
   "metadata": {},
   "outputs": [],
   "source": [
    "import os\r\n",
    "import pandas as pd\r\n",
    "\r\n",
    "EXPERIMENT_ID = 1\r\n",
    "metrics_df = pd.read_csv(os.path.join('..', 'logs', 'experiment', 'version_{}'.format(EXPERIMENT_ID), 'metrics.csv'))"
   ]
  },
  {
   "cell_type": "code",
   "execution_count": null,
   "metadata": {},
   "outputs": [],
   "source": [
    "metrics_df.head()"
   ]
  },
  {
   "cell_type": "code",
   "execution_count": null,
   "metadata": {},
   "outputs": [],
   "source": [
    "metrics_df.info()"
   ]
  },
  {
   "cell_type": "code",
   "execution_count": null,
   "metadata": {},
   "outputs": [],
   "source": [
    "metrics_df.describe()"
   ]
  },
  {
   "cell_type": "code",
   "execution_count": null,
   "metadata": {},
   "outputs": [],
   "source": [
    "num_epochs = int(metrics_df['epoch'].dropna().max()) + 1\r\n",
    "num_epochs"
   ]
  },
  {
   "cell_type": "code",
   "execution_count": null,
   "metadata": {},
   "outputs": [],
   "source": [
    "val_coco_df = metrics_df[metrics_df.columns[12:]].dropna()\r\n",
    "val_coco_df, test_coco_df = val_coco_df[:num_epochs], val_coco_df[num_epochs:]"
   ]
  },
  {
   "cell_type": "code",
   "execution_count": null,
   "metadata": {},
   "outputs": [],
   "source": [
    "val_coco_df"
   ]
  },
  {
   "cell_type": "code",
   "execution_count": null,
   "metadata": {},
   "outputs": [],
   "source": [
    "test_coco_df"
   ]
  },
  {
   "cell_type": "code",
   "execution_count": null,
   "metadata": {},
   "outputs": [],
   "source": [
    "import matplotlib.pyplot as plt\r\n",
    "\r\n",
    "x = range(len(metrics_df['loss'].dropna()))\r\n",
    "window_size = int(.005 * len(metrics_df['loss'].dropna()))\r\n",
    "plt.plot(x, metrics_df['loss'].dropna(), label='loss')\r\n",
    "plt.plot(x, metrics_df['loss'].dropna().rolling(window=window_size).mean(), label='rolling mean loss (window size={})'.format(window_size))\r\n",
    "plt.plot(x, metrics_df['loss'].dropna().rolling(window=window_size).std(), label='rolling loss std (window size={})'.format(window_size))\r\n",
    "plt.legend()\r\n",
    "plt.grid()\r\n",
    "plt.show()"
   ]
  },
  {
   "cell_type": "code",
   "execution_count": null,
   "metadata": {},
   "outputs": [],
   "source": [
    "metrics_df['loss'].dropna().describe()"
   ]
  },
  {
   "cell_type": "code",
   "execution_count": null,
   "metadata": {},
   "outputs": [],
   "source": [
    "losses = {\r\n",
    "    'loss_classifier': metrics_df['loss_classifier'].dropna().rolling(window=window_size).mean(),\r\n",
    "    'loss_box_reg': metrics_df['loss_box_reg'].dropna().rolling(window=window_size).mean(),\r\n",
    "    'loss_objectness': metrics_df['loss_objectness'].dropna().rolling(window=window_size).mean(),\r\n",
    "    'loss_rpn_box_reg': metrics_df['loss_rpn_box_reg'].dropna().rolling(window=window_size).mean()\r\n",
    "}\r\n",
    "plt.stackplot(x, losses.values(), labels=losses.keys())\r\n",
    "plt.legend()\r\n",
    "plt.grid()\r\n",
    "plt.show()"
   ]
  },
  {
   "cell_type": "code",
   "execution_count": null,
   "metadata": {},
   "outputs": [],
   "source": [
    "(metrics_df['step_end'] - metrics_df['step_start']).mean()"
   ]
  },
  {
   "cell_type": "code",
   "execution_count": null,
   "metadata": {},
   "outputs": [],
   "source": [
    "gpu_memory = metrics_df['gpu_id: 0/memory.used (MB)'].dropna()\r\n",
    "plt.plot(range(len(gpu_memory)), gpu_memory)\r\n",
    "plt.grid()\r\n",
    "plt.show()"
   ]
  }
 ],
 "metadata": {
  "interpreter": {
   "hash": "7430735f8de99a669c96d22c615cf95622dcefd15be72b05d75f9aebad5f014d"
  },
  "kernelspec": {
   "display_name": "Python 3.8.10 64-bit ('mlenv': conda)",
   "name": "python3"
  },
  "language_info": {
   "codemirror_mode": {
    "name": "ipython",
    "version": 3
   },
   "file_extension": ".py",
   "mimetype": "text/x-python",
   "name": "python",
   "nbconvert_exporter": "python",
   "pygments_lexer": "ipython3",
   "version": "3.8.10"
  },
  "orig_nbformat": 4
 },
 "nbformat": 4,
 "nbformat_minor": 2
}