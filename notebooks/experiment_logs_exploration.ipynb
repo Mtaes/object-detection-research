{
 "cells": [
  {
   "cell_type": "code",
   "execution_count": null,
   "source": [
    "import os\r\n",
    "import pandas as pd\r\n",
    "\r\n",
    "DPI = 300\r\n",
    "FILE_FORMAT = 'jpg'\r\n",
    "SAVE = False\r\n",
    "SHOW_TITLE = True\r\n",
    "\r\n",
    "def get_path(file_name: str):\r\n",
    "    return os.path.join('images', 'experiment_logs_exploration', f'{file_name}.{FILE_FORMAT}')\r\n",
    "\r\n",
    "EXPERIMENT_ID = 1\r\n",
    "metrics_df = pd.read_csv(os.path.join('..', 'logs', 'experiment', 'version_{}'.format(EXPERIMENT_ID), 'metrics.csv'))"
   ],
   "outputs": [],
   "metadata": {}
  },
  {
   "cell_type": "code",
   "execution_count": null,
   "source": [
    "metrics_df.head()"
   ],
   "outputs": [],
   "metadata": {}
  },
  {
   "cell_type": "code",
   "execution_count": null,
   "source": [
    "# Time of execution (h)\r\n",
    "(metrics_df['step_end'].max() - metrics_df['step_start'].min())/(60 * 60)"
   ],
   "outputs": [],
   "metadata": {}
  },
  {
   "cell_type": "code",
   "execution_count": null,
   "source": [
    "metrics_df.info()"
   ],
   "outputs": [],
   "metadata": {}
  },
  {
   "cell_type": "code",
   "execution_count": null,
   "source": [
    "metrics_df.describe()"
   ],
   "outputs": [],
   "metadata": {}
  },
  {
   "cell_type": "code",
   "execution_count": null,
   "source": [
    "num_epochs = int(metrics_df['epoch'].dropna().max()) + 1\r\n",
    "num_epochs"
   ],
   "outputs": [],
   "metadata": {}
  },
  {
   "cell_type": "code",
   "execution_count": null,
   "source": [
    "val_coco_df = metrics_df[['coco_stat_{}'.format(i) for i in range(12)]].dropna()\r\n",
    "val_coco_df, test_coco_df = val_coco_df[:num_epochs], val_coco_df[num_epochs:]"
   ],
   "outputs": [],
   "metadata": {}
  },
  {
   "cell_type": "code",
   "execution_count": null,
   "source": [
    "val_coco_df"
   ],
   "outputs": [],
   "metadata": {}
  },
  {
   "cell_type": "code",
   "execution_count": null,
   "source": [
    "import matplotlib.pyplot as plt\r\n",
    "\r\n",
    "plt.plot(range(1, num_epochs + 1), val_coco_df['coco_stat_0'], 'o--')\r\n",
    "plt.ylabel('Dokładność (%)')\r\n",
    "plt.xlabel('Epoki')\r\n",
    "title = 'AP IoU=.50:.05:.95 na zbiorze walidacyjnym po każdej epoce - eksperyment {}'.format(EXPERIMENT_ID)\r\n",
    "if SHOW_TITLE:\r\n",
    "    plt.title(title)\r\n",
    "else:\r\n",
    "    print(title)\r\n",
    "plt.grid()\r\n",
    "plt.tight_layout()\r\n",
    "if SAVE:\r\n",
    "    plt.savefig(get_path(f'ex_{EXPERIMENT_ID}_val'), dpi=DPI)\r\n",
    "plt.show()"
   ],
   "outputs": [],
   "metadata": {}
  },
  {
   "cell_type": "code",
   "execution_count": null,
   "source": [
    "test_coco_df"
   ],
   "outputs": [],
   "metadata": {}
  },
  {
   "cell_type": "code",
   "execution_count": null,
   "source": [
    "x = range(len(metrics_df['loss'].dropna()))\r\n",
    "window_size = int(.005 * len(metrics_df['loss'].dropna()))\r\n",
    "plt.plot(x, metrics_df['loss'].dropna(), label='strata')\r\n",
    "plt.plot(x, metrics_df['loss'].dropna().rolling(window=window_size).mean(), label='ruchoma średnia straty (okno={})'.format(window_size))#'rolling mean loss (window size={})'\r\n",
    "plt.plot(x, metrics_df['loss'].dropna().rolling(window=window_size).std(), label='ruchoma średnia odchylenia standardowego (okno={})'.format(window_size))#'rolling loss std (window size={})'\r\n",
    "plt.legend()\r\n",
    "plt.ylabel('Wartość straty')\r\n",
    "plt.xlabel('Iteracje')\r\n",
    "title = 'Wartość straty podczas uczenia - eksperyment {}'.format(EXPERIMENT_ID)\r\n",
    "if SHOW_TITLE:\r\n",
    "    plt.title(title)\r\n",
    "else:\r\n",
    "    print(title)\r\n",
    "plt.grid()\r\n",
    "plt.tight_layout()\r\n",
    "if SAVE:\r\n",
    "    plt.savefig(get_path(f'ex_{EXPERIMENT_ID}_loss'), dpi=DPI)\r\n",
    "plt.show()"
   ],
   "outputs": [],
   "metadata": {}
  },
  {
   "cell_type": "code",
   "execution_count": null,
   "source": [
    "metrics_df['loss'].dropna().describe()"
   ],
   "outputs": [],
   "metadata": {}
  },
  {
   "cell_type": "code",
   "execution_count": null,
   "source": [
    "losses = {\r\n",
    "    'ruchoma średnia straty klasyfikatora (okno={})'.format(window_size): metrics_df['loss_classifier'].dropna().rolling(window=window_size).mean(),\r\n",
    "    'ruchoma średnia straty regresji pola ograniczającego (okno={})'.format(window_size): metrics_df['loss_box_reg'].dropna().rolling(window=window_size).mean(),\r\n",
    "    'ruchoma średnia straty zawierania obiektu (okno={})'.format(window_size): metrics_df['loss_objectness'].dropna().rolling(window=window_size).mean(),\r\n",
    "    'ruchoma średnia straty regresji pola ograniczającego (rpn) (okno={})'.format(window_size): metrics_df['loss_rpn_box_reg'].dropna().rolling(window=window_size).mean()\r\n",
    "}\r\n",
    "plt.stackplot(x, losses.values(), labels=losses.keys())\r\n",
    "plt.legend(bbox_to_anchor=(1, .5), loc='center left')\r\n",
    "plt.ylabel('Wartość straty')\r\n",
    "plt.xlabel('Iteracje')\r\n",
    "title = 'Skład średniej straty podczas uczenia - eksperyment {}'.format(EXPERIMENT_ID)\r\n",
    "if SHOW_TITLE:\r\n",
    "    plt.title(title)\r\n",
    "else:\r\n",
    "    print(title)\r\n",
    "plt.grid()\r\n",
    "if SAVE:\r\n",
    "    plt.savefig(get_path(f'ex_{EXPERIMENT_ID}_losses'), dpi=DPI, bbox_inches='tight')\r\n",
    "plt.show()"
   ],
   "outputs": [],
   "metadata": {}
  },
  {
   "cell_type": "code",
   "execution_count": null,
   "source": [
    "(metrics_df['step_end'] - metrics_df['step_start']).mean()"
   ],
   "outputs": [],
   "metadata": {}
  },
  {
   "cell_type": "code",
   "execution_count": null,
   "source": [
    "gpu_memory = metrics_df['gpu_id: 0/memory.used (MB)'].dropna()\r\n",
    "plt.plot(range(len(gpu_memory)), gpu_memory)\r\n",
    "plt.title('Wykorzystanie pamięci GPU - eksperyment {}'.format(EXPERIMENT_ID))\r\n",
    "plt.xlabel('Iteracje')\r\n",
    "plt.ylabel('Wykorzystanie pamięci (MB)')\r\n",
    "plt.grid()\r\n",
    "plt.tight_layout()\r\n",
    "plt.show()"
   ],
   "outputs": [],
   "metadata": {}
  },
  {
   "cell_type": "code",
   "execution_count": null,
   "source": [
    "# Max GPU memory\r\n",
    "metrics_df['gpu_id: 0/memory.used (MB)'].dropna().max()"
   ],
   "outputs": [],
   "metadata": {}
  }
 ],
 "metadata": {
  "interpreter": {
   "hash": "7430735f8de99a669c96d22c615cf95622dcefd15be72b05d75f9aebad5f014d"
  },
  "kernelspec": {
   "name": "python3",
   "display_name": "Python 3.8.10 64-bit ('mlenv': conda)"
  },
  "language_info": {
   "codemirror_mode": {
    "name": "ipython",
    "version": 3
   },
   "file_extension": ".py",
   "mimetype": "text/x-python",
   "name": "python",
   "nbconvert_exporter": "python",
   "pygments_lexer": "ipython3",
   "version": "3.8.10"
  },
  "orig_nbformat": 4
 },
 "nbformat": 4,
 "nbformat_minor": 2
}