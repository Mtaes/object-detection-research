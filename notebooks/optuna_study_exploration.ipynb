{
    "cells": [
        {
            "cell_type": "code",
            "execution_count": null,
            "source": [
                "import os\r\n",
                "import pathlib\r\n",
                "import optuna\r\n",
                "\r\n",
                "SAVE = False\r\n",
                "WIDTH = 1200\r\n",
                "SCALE = 3\r\n",
                "ID = 13\r\n",
                "study = optuna.load_study(study_name=f'experiment_{ID}', storage='sqlite:///{}'.format(os.path.join('..', 'logs', 'experiment', 'studies.db')))\r\n",
                "if SAVE:\r\n",
                "    path = pathlib.Path(os.path.join('images', 'optuna_study_exploration'))\r\n",
                "    path.mkdir(parents=True, exist_ok=True)"
            ],
            "outputs": [],
            "metadata": {}
        },
        {
            "cell_type": "code",
            "execution_count": null,
            "source": [
                "# If the study is stopped by e.g. system timeout on kaggle or colab the last trial can get stuck in the running state and become \"zombie trial\".\r\n",
                "# Setting fix_running_trials to True will set every running trial to failed one. This may be necessary if study is to be re-run to compute more trials.\r\n",
                "# https://github.com/optuna/optuna/issues/685\r\n",
                "# https://github.com/optuna/optuna/pull/1214\r\n",
                "fix_running_trials = False\r\n",
                "running_trials = study.get_trials(deepcopy=False, states=[optuna.trial.TrialState.RUNNING])\r\n",
                "print(running_trials)\r\n",
                "if fix_running_trials:\r\n",
                "    for trial in running_trials:\r\n",
                "        study._storage.set_trial_state(trial_id=trial._trial_id, state=optuna.trial.TrialState.FAIL)"
            ],
            "outputs": [],
            "metadata": {}
        },
        {
            "cell_type": "code",
            "execution_count": null,
            "source": [
                "len(study.get_trials(deepcopy=False))"
            ],
            "outputs": [],
            "metadata": {}
        },
        {
            "cell_type": "code",
            "execution_count": null,
            "source": [
                "study.best_trial"
            ],
            "outputs": [],
            "metadata": {}
        },
        {
            "cell_type": "code",
            "execution_count": null,
            "source": [
                "translate_dict = {\r\n",
                "    'SGD_momentum': 'SGD momentum',\r\n",
                "    'SGD_nesterov': 'SGD nesterov',\r\n",
                "    'SGD_weight_decay': 'SGD rozkład wag',\r\n",
                "    'learning_rate': 'tempo uczenia',\r\n",
                "    'ReduceLROnPlateau...': 'współczynnik lr',\r\n",
                "    'AP': 'AP IoU=.50:.05:.95',\r\n",
                "    'ReduceLROnPlateau_factor': 'współczynnik lr',\r\n",
                "    'beta1': 'beta 1',\r\n",
                "    'beta2': 'beta 2',\r\n",
                "    'epsilon': 'epsilon',\r\n",
                "    'blur': 'blur',\r\n",
                "    'h_flip': 'horyzontalne odbicie',\r\n",
                "    'rotate': 'rotacja',\r\n",
                "    'random_crop': 'losowe wycięcie',\r\n",
                "    'gauss_noise': 'szum Gaussa',\r\n",
                "    'equalize': 'wyrównanie histogramu',\r\n",
                "}"
            ],
            "outputs": [],
            "metadata": {}
        },
        {
            "cell_type": "code",
            "execution_count": null,
            "source": [
                "fig = optuna.visualization.plot_intermediate_values(study)\r\n",
                "fig.update_layout(title_text='', xaxis_title_text='Epoka', yaxis_title_text='AP IoU=.50:.05:.95',  margin=dict(l=70, r=50, t=30, b=80))\r\n",
                "fig.show()\r\n",
                "if SAVE:\r\n",
                "    fig.write_image(os.path.join('images', 'optuna_study_exploration', f'intermediate_values_{ID}.jpg'), width=WIDTH, scale=SCALE)"
            ],
            "outputs": [],
            "metadata": {}
        },
        {
            "cell_type": "code",
            "execution_count": null,
            "source": [
                "fig = optuna.visualization.plot_optimization_history(study)\r\n",
                "fig.update_layout(title_text='', xaxis_title_text='Próby', yaxis_title_text='AP IoU=.50:.05:.95', margin=dict(l=70, r=70, t=30, b=80))\r\n",
                "fig.data[0].name='AP danej próby'\r\n",
                "fig.data[1].name='Najlepsze AP'\r\n",
                "fig.show()\r\n",
                "if SAVE:\r\n",
                "    fig.write_image(os.path.join('images', 'optuna_study_exploration', f'optimization_history_{ID}.jpg'), width=WIDTH, scale=SCALE)"
            ],
            "outputs": [],
            "metadata": {}
        },
        {
            "cell_type": "code",
            "execution_count": null,
            "source": [
                "fig = optuna.visualization.plot_parallel_coordinate(study, target_name='AP')\r\n",
                "for dim in fig.data[0].dimensions:\r\n",
                "    if dim.label in ['SGD_nesterov', 'blur', 'h_flip', 'rotate', 'random_crop', 'gauss_noise', 'equalize']:\r\n",
                "        new_ticktext = []\r\n",
                "        for tick in dim.ticktext:\r\n",
                "            if tick == True:\r\n",
                "                new_ticktext.append('Tak')\r\n",
                "            elif tick == False:\r\n",
                "                new_ticktext.append('Nie')\r\n",
                "        dim.ticktext = new_ticktext\r\n",
                "for dim in fig.data[0].dimensions:\r\n",
                "    dim.label = translate_dict[dim.label]\r\n",
                "fig.update_layout(title_text='', margin=dict(l=70, r=70, t=30, b=90))\r\n",
                "fig.show()\r\n",
                "if SAVE:\r\n",
                "    fig.write_image(os.path.join('images', 'optuna_study_exploration', f'parallel_coordinate_{ID}.jpg'), width=WIDTH, scale=SCALE)"
            ],
            "outputs": [],
            "metadata": {}
        },
        {
            "cell_type": "code",
            "execution_count": null,
            "source": [
                "fig = optuna.visualization.plot_param_importances(study)\r\n",
                "fig.data[0].y = tuple(translate_dict[label] for label in fig.data[0].y)\r\n",
                "fig.update_layout(title_text='', xaxis_title_text='Wpływ na wartość AP IoU=.50:.05:.95', yaxis_title_text='Hiperparametry', margin=dict(l=30, r=30, t=30, b=30))\r\n",
                "fig.show()\r\n",
                "if SAVE:\r\n",
                "    fig.write_image(os.path.join('images', 'optuna_study_exploration', f'param_importancess_{ID}.jpg'), width=WIDTH, scale=SCALE)"
            ],
            "outputs": [],
            "metadata": {}
        }
    ],
    "metadata": {
        "orig_nbformat": 4,
        "language_info": {
            "name": "python",
            "version": "3.8.10",
            "mimetype": "text/x-python",
            "codemirror_mode": {
                "name": "ipython",
                "version": 3
            },
            "pygments_lexer": "ipython3",
            "nbconvert_exporter": "python",
            "file_extension": ".py"
        },
        "kernelspec": {
            "name": "python3",
            "display_name": "Python 3.8.10 64-bit ('mlenv': conda)"
        },
        "interpreter": {
            "hash": "7430735f8de99a669c96d22c615cf95622dcefd15be72b05d75f9aebad5f014d"
        }
    },
    "nbformat": 4,
    "nbformat_minor": 2
}