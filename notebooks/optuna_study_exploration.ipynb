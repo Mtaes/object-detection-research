{
 "cells": [
  {
   "cell_type": "code",
   "execution_count": null,
   "source": [
    "import os\n",
    "import pathlib\n",
    "import optuna\n",
    "\n",
    "SAVE = False\n",
    "WIDTH = 1200\n",
    "SCALE = 3\n",
    "ID = 13\n",
    "study = optuna.load_study(\n",
    "    study_name=f\"experiment_{ID}\",\n",
    "    storage=\"sqlite:///{}\".format(\n",
    "        os.path.join(\"..\", \"logs\", \"experiment\", \"studies.db\")\n",
    "    ),\n",
    ")\n",
    "if SAVE:\n",
    "    path = pathlib.Path(os.path.join(\"images\", \"optuna_study_exploration\"))\n",
    "    path.mkdir(parents=True, exist_ok=True)"
   ],
   "outputs": [],
   "metadata": {}
  },
  {
   "cell_type": "code",
   "execution_count": null,
   "source": [
    "# If the study is stopped by e.g. system timeout on kaggle or colab the last trial can get stuck in the running state and become \"zombie trial\".\n",
    "# Setting fix_running_trials to True will set every running trial to failed one. This may be necessary if study is to be re-run to compute more trials.\n",
    "# https://github.com/optuna/optuna/issues/685\n",
    "# https://github.com/optuna/optuna/pull/1214\n",
    "fix_running_trials = False\n",
    "running_trials = study.get_trials(\n",
    "    deepcopy=False, states=[optuna.trial.TrialState.RUNNING]\n",
    ")\n",
    "print(running_trials)\n",
    "if fix_running_trials:\n",
    "    for trial in running_trials:\n",
    "        study._storage.set_trial_state(\n",
    "            trial_id=trial._trial_id, state=optuna.trial.TrialState.FAIL\n",
    "        )"
   ],
   "outputs": [],
   "metadata": {}
  },
  {
   "cell_type": "code",
   "execution_count": null,
   "source": [
    "len(study.get_trials(deepcopy=False))"
   ],
   "outputs": [],
   "metadata": {}
  },
  {
   "cell_type": "code",
   "execution_count": null,
   "source": [
    "study.best_trial"
   ],
   "outputs": [],
   "metadata": {}
  },
  {
   "cell_type": "code",
   "execution_count": null,
   "source": [
    "translate_dict = {\n",
    "    \"SGD_momentum\": \"SGD momentum\",\n",
    "    \"SGD_nesterov\": \"SGD nesterov\",\n",
    "    \"SGD_weight_decay\": \"SGD rozkład wag\",\n",
    "    \"learning_rate\": \"tempo uczenia\",\n",
    "    \"ReduceLROnPlateau...\": \"współczynnik lr\",\n",
    "    \"AP\": \"AP IoU=.50:.05:.95\",\n",
    "    \"ReduceLROnPlateau_factor\": \"współczynnik lr\",\n",
    "    \"beta1\": \"beta 1\",\n",
    "    \"beta2\": \"beta 2\",\n",
    "    \"epsilon\": \"epsilon\",\n",
    "    \"blur\": \"blur\",\n",
    "    \"h_flip\": \"horyzontalne odbicie\",\n",
    "    \"rotate\": \"rotacja\",\n",
    "    \"random_crop\": \"losowe wycięcie\",\n",
    "    \"gauss_noise\": \"szum Gaussa\",\n",
    "    \"equalize\": \"wyrównanie histogramu\",\n",
    "}"
   ],
   "outputs": [],
   "metadata": {}
  },
  {
   "cell_type": "code",
   "execution_count": null,
   "source": [
    "fig = optuna.visualization.plot_intermediate_values(study)\n",
    "fig.update_layout(\n",
    "    title_text=\"\",\n",
    "    xaxis_title_text=\"Epoka\",\n",
    "    yaxis_title_text=\"AP IoU=.50:.05:.95\",\n",
    "    margin=dict(l=70, r=50, t=30, b=80),\n",
    ")\n",
    "fig.show()\n",
    "if SAVE:\n",
    "    fig.write_image(\n",
    "        os.path.join(\n",
    "            \"images\", \"optuna_study_exploration\", f\"intermediate_values_{ID}.jpg\"\n",
    "        ),\n",
    "        width=WIDTH,\n",
    "        scale=SCALE,\n",
    "    )"
   ],
   "outputs": [],
   "metadata": {}
  },
  {
   "cell_type": "code",
   "execution_count": null,
   "source": [
    "fig = optuna.visualization.plot_optimization_history(study)\n",
    "fig.update_layout(\n",
    "    title_text=\"\",\n",
    "    xaxis_title_text=\"Próby\",\n",
    "    yaxis_title_text=\"AP IoU=.50:.05:.95\",\n",
    "    margin=dict(l=70, r=70, t=30, b=80),\n",
    ")\n",
    "fig.data[0].name = \"AP danej próby\"\n",
    "fig.data[1].name = \"Najlepsze AP\"\n",
    "fig.show()\n",
    "if SAVE:\n",
    "    fig.write_image(\n",
    "        os.path.join(\n",
    "            \"images\", \"optuna_study_exploration\", f\"optimization_history_{ID}.jpg\"\n",
    "        ),\n",
    "        width=WIDTH,\n",
    "        scale=SCALE,\n",
    "    )"
   ],
   "outputs": [],
   "metadata": {}
  },
  {
   "cell_type": "code",
   "execution_count": null,
   "source": [
    "fig = optuna.visualization.plot_parallel_coordinate(study, target_name=\"AP\")\n",
    "for dim in fig.data[0].dimensions:\n",
    "    if dim.label in [\n",
    "        \"SGD_nesterov\",\n",
    "        \"blur\",\n",
    "        \"h_flip\",\n",
    "        \"rotate\",\n",
    "        \"random_crop\",\n",
    "        \"gauss_noise\",\n",
    "        \"equalize\",\n",
    "    ]:\n",
    "        new_ticktext = []\n",
    "        for tick in dim.ticktext:\n",
    "            if tick == True:\n",
    "                new_ticktext.append(\"Tak\")\n",
    "            elif tick == False:\n",
    "                new_ticktext.append(\"Nie\")\n",
    "        dim.ticktext = new_ticktext\n",
    "for dim in fig.data[0].dimensions:\n",
    "    dim.label = translate_dict[dim.label]\n",
    "fig.update_layout(title_text=\"\", margin=dict(l=70, r=70, t=30, b=90))\n",
    "fig.show()\n",
    "if SAVE:\n",
    "    fig.write_image(\n",
    "        os.path.join(\n",
    "            \"images\", \"optuna_study_exploration\", f\"parallel_coordinate_{ID}.jpg\"\n",
    "        ),\n",
    "        width=WIDTH,\n",
    "        scale=SCALE,\n",
    "    )"
   ],
   "outputs": [],
   "metadata": {}
  },
  {
   "cell_type": "code",
   "execution_count": null,
   "source": [
    "fig = optuna.visualization.plot_param_importances(study)\n",
    "fig.data[0].y = tuple(translate_dict[label] for label in fig.data[0].y)\n",
    "fig.update_layout(\n",
    "    title_text=\"\",\n",
    "    xaxis_title_text=\"Wpływ na wartość AP IoU=.50:.05:.95\",\n",
    "    yaxis_title_text=\"Hiperparametry\",\n",
    "    margin=dict(l=30, r=30, t=30, b=30),\n",
    ")\n",
    "fig.show()\n",
    "if SAVE:\n",
    "    fig.write_image(\n",
    "        os.path.join(\n",
    "            \"images\", \"optuna_study_exploration\", f\"param_importancess_{ID}.jpg\"\n",
    "        ),\n",
    "        width=WIDTH,\n",
    "        scale=SCALE,\n",
    "    )"
   ],
   "outputs": [],
   "metadata": {}
  }
 ],
 "metadata": {
  "orig_nbformat": 4,
  "language_info": {
   "name": "python",
   "version": "3.8.10",
   "mimetype": "text/x-python",
   "codemirror_mode": {
    "name": "ipython",
    "version": 3
   },
   "pygments_lexer": "ipython3",
   "nbconvert_exporter": "python",
   "file_extension": ".py"
  },
  "kernelspec": {
   "name": "python3",
   "display_name": "Python 3.8.10 64-bit ('mlenv': conda)"
  },
  "interpreter": {
   "hash": "7430735f8de99a669c96d22c615cf95622dcefd15be72b05d75f9aebad5f014d"
  }
 },
 "nbformat": 4,
 "nbformat_minor": 2
}