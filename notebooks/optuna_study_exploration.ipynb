{
    "cells": [
        {
            "cell_type": "code",
            "execution_count": null,
            "source": [
                "import os\r\n",
                "import optuna\r\n",
                "\r\n",
                "ID = 13\r\n",
                "study = optuna.load_study(study_name=f'experiment_{ID}', storage='sqlite:///{}'.format(os.path.join('..', 'logs', 'experiment', 'studies.db')))"
            ],
            "outputs": [],
            "metadata": {}
        },
        {
            "cell_type": "code",
            "execution_count": null,
            "source": [
                "# If the study is stopped by e.g. system timeout on kaggle or colab the last trial can get stuck in the running state and become \"zombie trial\".\r\n",
                "# Setting fix_running_trials to True will set every running trial to failed one. This may be necessary if study is to be re-run to compute more trials.\r\n",
                "# https://github.com/optuna/optuna/issues/685\r\n",
                "# https://github.com/optuna/optuna/pull/1214\r\n",
                "fix_running_trials = False\r\n",
                "running_trials = study.get_trials(deepcopy=False, states=[optuna.trial.TrialState.RUNNING])\r\n",
                "print(running_trials)\r\n",
                "if fix_running_trials:\r\n",
                "    for trial in running_trials:\r\n",
                "        study._storage.set_trial_state(trial_id=trial._trial_id, state=optuna.trial.TrialState.FAIL)"
            ],
            "outputs": [],
            "metadata": {}
        },
        {
            "cell_type": "code",
            "execution_count": null,
            "source": [
                "len(study.get_trials(deepcopy=False))"
            ],
            "outputs": [],
            "metadata": {}
        },
        {
            "cell_type": "code",
            "execution_count": null,
            "source": [
                "study.best_trial"
            ],
            "outputs": [],
            "metadata": {}
        },
        {
            "cell_type": "code",
            "execution_count": null,
            "source": [
                "optuna.visualization.plot_intermediate_values(study)"
            ],
            "outputs": [],
            "metadata": {}
        },
        {
            "cell_type": "code",
            "execution_count": null,
            "source": [
                "optuna.visualization.plot_optimization_history(study)"
            ],
            "outputs": [],
            "metadata": {}
        },
        {
            "cell_type": "code",
            "execution_count": null,
            "source": [
                "optuna.visualization.plot_parallel_coordinate(study)"
            ],
            "outputs": [],
            "metadata": {}
        },
        {
            "cell_type": "code",
            "execution_count": null,
            "source": [
                "optuna.visualization.plot_param_importances(study)"
            ],
            "outputs": [],
            "metadata": {}
        }
    ],
    "metadata": {
        "orig_nbformat": 4,
        "language_info": {
            "name": "python"
        }
    },
    "nbformat": 4,
    "nbformat_minor": 2
}